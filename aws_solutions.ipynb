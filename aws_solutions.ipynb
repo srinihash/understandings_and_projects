{
  "nbformat": 4,
  "nbformat_minor": 0,
  "metadata": {
    "colab": {
      "name": "aws_solutions.ipynb",
      "provenance": [],
      "mount_file_id": "1QN376f5BInxOk0YlQYpBmlqjM9YtpDjF",
      "authorship_tag": "ABX9TyOT3Hzdn1L9XxyW2sg3UssW",
      "include_colab_link": true
    },
    "kernelspec": {
      "name": "python3",
      "display_name": "Python 3"
    }
  },
  "cells": [
    {
      "cell_type": "markdown",
      "metadata": {
        "id": "view-in-github",
        "colab_type": "text"
      },
      "source": [
        "<a href=\"https://colab.research.google.com/github/srinihash/understandings_and_projects/blob/master/aws_solutions.ipynb\" target=\"_parent\"><img src=\"https://colab.research.google.com/assets/colab-badge.svg\" alt=\"Open In Colab\"/></a>"
      ]
    },
    {
      "cell_type": "markdown",
      "metadata": {
        "id": "SMezTZuzwhzS",
        "colab_type": "text"
      },
      "source": [
        "https://realpython.com/python-boto3-aws-s3/"
      ]
    },
    {
      "cell_type": "code",
      "metadata": {
        "id": "HuL3N3gr4KdQ",
        "colab_type": "code",
        "colab": {
          "base_uri": "https://localhost:8080/",
          "height": 156
        },
        "outputId": "9d9ced35-52bc-45e6-8267-07f047755e27"
      },
      "source": [
        "!pip install boto3"
      ],
      "execution_count": 1,
      "outputs": [
        {
          "output_type": "stream",
          "text": [
            "Requirement already satisfied: boto3 in /usr/local/lib/python3.6/dist-packages (1.14.33)\n",
            "Requirement already satisfied: s3transfer<0.4.0,>=0.3.0 in /usr/local/lib/python3.6/dist-packages (from boto3) (0.3.3)\n",
            "Requirement already satisfied: jmespath<1.0.0,>=0.7.1 in /usr/local/lib/python3.6/dist-packages (from boto3) (0.10.0)\n",
            "Requirement already satisfied: botocore<1.18.0,>=1.17.33 in /usr/local/lib/python3.6/dist-packages (from boto3) (1.17.33)\n",
            "Requirement already satisfied: docutils<0.16,>=0.10 in /usr/local/lib/python3.6/dist-packages (from botocore<1.18.0,>=1.17.33->boto3) (0.15.2)\n",
            "Requirement already satisfied: python-dateutil<3.0.0,>=2.1 in /usr/local/lib/python3.6/dist-packages (from botocore<1.18.0,>=1.17.33->boto3) (2.8.1)\n",
            "Requirement already satisfied: urllib3<1.26,>=1.20; python_version != \"3.4\" in /usr/local/lib/python3.6/dist-packages (from botocore<1.18.0,>=1.17.33->boto3) (1.24.3)\n",
            "Requirement already satisfied: six>=1.5 in /usr/local/lib/python3.6/dist-packages (from python-dateutil<3.0.0,>=2.1->botocore<1.18.0,>=1.17.33->boto3) (1.15.0)\n"
          ],
          "name": "stdout"
        }
      ]
    },
    {
      "cell_type": "code",
      "metadata": {
        "id": "a7Dp2uz44Uee",
        "colab_type": "code",
        "colab": {}
      },
      "source": [
        "# https://stackoverflow.com/questions/54571009/how-to-hide-secret-keys-in-google-colaboratory-from-users-having-the-sharing-lin\n",
        "# Mounting my drive (do not worry, no one ca hack this because \"login\" is required for running this Colab)\n",
        "!mkdir -p ~/.aws\n",
        "!cp \"/content/drive/My Drive/aws/config\" ~/.aws/config"
      ],
      "execution_count": 3,
      "outputs": []
    },
    {
      "cell_type": "code",
      "metadata": {
        "id": "mIy1E3Gd5v8v",
        "colab_type": "code",
        "colab": {
          "base_uri": "https://localhost:8080/",
          "height": 54
        },
        "outputId": "5ddafa13-0f22-402d-bb44-fe191a0bdc28"
      },
      "source": [
        "# Client connection\n",
        "import boto3\n",
        "s3_client = boto3.client('s3')\n",
        "print(dir(s3_client))"
      ],
      "execution_count": 8,
      "outputs": [
        {
          "output_type": "stream",
          "text": [
            "['_PY_TO_OP_NAME', '__class__', '__delattr__', '__dict__', '__dir__', '__doc__', '__eq__', '__format__', '__ge__', '__getattr__', '__getattribute__', '__gt__', '__hash__', '__init__', '__init_subclass__', '__le__', '__lt__', '__module__', '__ne__', '__new__', '__reduce__', '__reduce_ex__', '__repr__', '__setattr__', '__sizeof__', '__str__', '__subclasshook__', '__weakref__', '_cache', '_client_config', '_convert_to_request_dict', '_emit_api_params', '_endpoint', '_exceptions', '_exceptions_factory', '_get_waiter_config', '_load_exceptions', '_loader', '_make_api_call', '_make_request', '_register_handlers', '_request_signer', '_response_parser', '_serializer', '_service_model', 'abort_multipart_upload', 'can_paginate', 'complete_multipart_upload', 'copy', 'copy_object', 'create_bucket', 'create_multipart_upload', 'delete_bucket', 'delete_bucket_analytics_configuration', 'delete_bucket_cors', 'delete_bucket_encryption', 'delete_bucket_inventory_configuration', 'delete_bucket_lifecycle', 'delete_bucket_metrics_configuration', 'delete_bucket_policy', 'delete_bucket_replication', 'delete_bucket_tagging', 'delete_bucket_website', 'delete_object', 'delete_object_tagging', 'delete_objects', 'delete_public_access_block', 'download_file', 'download_fileobj', 'exceptions', 'generate_presigned_post', 'generate_presigned_url', 'get_bucket_accelerate_configuration', 'get_bucket_acl', 'get_bucket_analytics_configuration', 'get_bucket_cors', 'get_bucket_encryption', 'get_bucket_inventory_configuration', 'get_bucket_lifecycle', 'get_bucket_lifecycle_configuration', 'get_bucket_location', 'get_bucket_logging', 'get_bucket_metrics_configuration', 'get_bucket_notification', 'get_bucket_notification_configuration', 'get_bucket_policy', 'get_bucket_policy_status', 'get_bucket_replication', 'get_bucket_request_payment', 'get_bucket_tagging', 'get_bucket_versioning', 'get_bucket_website', 'get_object', 'get_object_acl', 'get_object_legal_hold', 'get_object_lock_configuration', 'get_object_retention', 'get_object_tagging', 'get_object_torrent', 'get_paginator', 'get_public_access_block', 'get_waiter', 'head_bucket', 'head_object', 'list_bucket_analytics_configurations', 'list_bucket_inventory_configurations', 'list_bucket_metrics_configurations', 'list_buckets', 'list_multipart_uploads', 'list_object_versions', 'list_objects', 'list_objects_v2', 'list_parts', 'meta', 'put_bucket_accelerate_configuration', 'put_bucket_acl', 'put_bucket_analytics_configuration', 'put_bucket_cors', 'put_bucket_encryption', 'put_bucket_inventory_configuration', 'put_bucket_lifecycle', 'put_bucket_lifecycle_configuration', 'put_bucket_logging', 'put_bucket_metrics_configuration', 'put_bucket_notification', 'put_bucket_notification_configuration', 'put_bucket_policy', 'put_bucket_replication', 'put_bucket_request_payment', 'put_bucket_tagging', 'put_bucket_versioning', 'put_bucket_website', 'put_object', 'put_object_acl', 'put_object_legal_hold', 'put_object_lock_configuration', 'put_object_retention', 'put_object_tagging', 'put_public_access_block', 'restore_object', 'select_object_content', 'upload_file', 'upload_fileobj', 'upload_part', 'upload_part_copy', 'waiter_names']\n"
          ],
          "name": "stdout"
        }
      ]
    },
    {
      "cell_type": "code",
      "metadata": {
        "id": "Z1M4HfRe_19K",
        "colab_type": "code",
        "colab": {
          "base_uri": "https://localhost:8080/",
          "height": 54
        },
        "outputId": "6d61c9d1-80f8-4954-f86e-660f7eb85f12"
      },
      "source": [
        "# Direct Resource connection\n",
        "import boto3\n",
        "s3_resource = boto3.resource('s3')\n",
        "print(dir(s3_resource))"
      ],
      "execution_count": 9,
      "outputs": [
        {
          "output_type": "stream",
          "text": [
            "['Bucket', 'BucketAcl', 'BucketCors', 'BucketLifecycle', 'BucketLifecycleConfiguration', 'BucketLogging', 'BucketNotification', 'BucketPolicy', 'BucketRequestPayment', 'BucketTagging', 'BucketVersioning', 'BucketWebsite', 'MultipartUpload', 'MultipartUploadPart', 'Object', 'ObjectAcl', 'ObjectSummary', 'ObjectVersion', '__class__', '__delattr__', '__dict__', '__dir__', '__doc__', '__eq__', '__format__', '__ge__', '__getattribute__', '__gt__', '__hash__', '__init__', '__init_subclass__', '__le__', '__lt__', '__module__', '__ne__', '__new__', '__reduce__', '__reduce_ex__', '__repr__', '__setattr__', '__sizeof__', '__str__', '__subclasshook__', '__weakref__', 'buckets', 'create_bucket', 'get_available_subresources', 'meta']\n"
          ],
          "name": "stdout"
        }
      ]
    },
    {
      "cell_type": "markdown",
      "metadata": {
        "id": "zxjRle50txDj",
        "colab_type": "text"
      },
      "source": [
        "boto3 is dependent upon lower library botocore : https://github.com/boto/botocore/tree/master"
      ]
    },
    {
      "cell_type": "code",
      "metadata": {
        "id": "awIRqj1DAHY8",
        "colab_type": "code",
        "colab": {
          "base_uri": "https://localhost:8080/",
          "height": 69
        },
        "outputId": "b18374a6-312c-48c2-f1fa-b297d420be9d"
      },
      "source": [
        "import uuid\n",
        "def create_bucket_name(bucket_prefix):\n",
        "    # The generated bucket name must be between 3 and 63 chars long\n",
        "    return ''.join([bucket_prefix, str(uuid.uuid4())])\n",
        "\n",
        "def create_bucket(bucket_prefix, s3_connection):\n",
        "    session = boto3.session.Session()\n",
        "    current_region = session.region_name\n",
        "    bucket_name = create_bucket_name(bucket_prefix)\n",
        "    bucket_response = s3_connection.create_bucket(\n",
        "        Bucket=bucket_name,\n",
        "        CreateBucketConfiguration={\n",
        "        'LocationConstraint': current_region})\n",
        "    print(bucket_name, current_region)\n",
        "    return bucket_name, bucket_response\n",
        "\n",
        "def create_temp_file(size, file_name, file_content):\n",
        "    random_file_name = ''.join([str(uuid.uuid4().hex[:6]), file_name])\n",
        "    with open(random_file_name, 'w') as f:\n",
        "        f.write(str(file_content) * size)\n",
        "    return random_file_name\n",
        "\n",
        "\n",
        "first_bucket_name, first_response = create_bucket(bucket_prefix='firstpythonbucket',\n",
        "                                                  s3_connection=s3_resource.meta.client)\n",
        "\n",
        "second_bucket_name, second_response = create_bucket(bucket_prefix='secondpythonbucket',\n",
        "                                                    s3_connection=s3_resource)\n",
        "\n",
        "print(\"first bucket : {} :: second bucket : {}\".format(first_bucket_name, \n",
        "                                                       second_bucket_name))\n",
        "\n",
        "first_file_name = create_temp_file(300, 'firstfile.txt', 'f')\n",
        "\n",
        "first_bucket = s3_resource.Bucket(name=first_bucket_name)\n",
        "first_object = s3_resource.Object(bucket_name=first_bucket_name, \n",
        "                                  key=first_file_name)"
      ],
      "execution_count": 12,
      "outputs": [
        {
          "output_type": "stream",
          "text": [
            "firstpythonbucket06258cc2-e5b9-419b-b547-de43392987d2 eu-west-1\n",
            "secondpythonbucket7e3fe8d5-12c7-4d3d-8992-dd59a9294707 eu-west-1\n",
            "first bucket : firstpythonbucket06258cc2-e5b9-419b-b547-de43392987d2 :: second bucket : secondpythonbucket7e3fe8d5-12c7-4d3d-8992-dd59a9294707\n"
          ],
          "name": "stdout"
        }
      ]
    },
    {
      "cell_type": "markdown",
      "metadata": {
        "id": "LoQpkpGmMs9q",
        "colab_type": "text"
      },
      "source": [
        "Let's now upload an object to the created bucket, in this case a file !\n",
        "We can upload the same using 3 constructs:\n",
        "1. From a Object instance\n",
        "2. From a Bucket instance\n",
        "3. From the client"
      ]
    },
    {
      "cell_type": "code",
      "metadata": {
        "id": "d9JulkE0GNFZ",
        "colab_type": "code",
        "colab": {}
      },
      "source": [
        "# Object instance version\n",
        "s3_resource.Object(first_bucket_name, first_file_name).upload_file(Filename=first_file_name)\n",
        "\n",
        "first_object.upload_file(first_file_name)"
      ],
      "execution_count": 14,
      "outputs": []
    },
    {
      "cell_type": "code",
      "metadata": {
        "id": "qrzFJw66O5rK",
        "colab_type": "code",
        "colab": {}
      },
      "source": [
        "# Bucket instance version\n",
        "s3_resource.Bucket(first_bucket_name).upload_file(Filename=first_file_name, Key=first_file_name) "
      ],
      "execution_count": 15,
      "outputs": []
    },
    {
      "cell_type": "code",
      "metadata": {
        "id": "KTCVLYUePTwo",
        "colab_type": "code",
        "colab": {}
      },
      "source": [
        "# Client version\n",
        "s3_resource.meta.client.upload_file(Filename=first_file_name, Bucket=first_bucket_name, Key=first_file_name) "
      ],
      "execution_count": 16,
      "outputs": []
    },
    {
      "cell_type": "markdown",
      "metadata": {
        "id": "hnshfZBEa_9-",
        "colab_type": "text"
      },
      "source": [
        "Let's copy this Object from one bucket to another"
      ]
    },
    {
      "cell_type": "code",
      "metadata": {
        "id": "pHDWPe2PQcWa",
        "colab_type": "code",
        "colab": {}
      },
      "source": [
        "def copy_to_bucket(bucket_from_name, bucket_to_name, file_name):\n",
        "    copy_resource = {\n",
        "        'Bucket': bucket_from_name,\n",
        "        'Key': file_name \n",
        "    }\n",
        "    s3_resource.Object(bucket_to_name, file_name).copy(copy_resource)\n",
        "\n",
        "copy_to_bucket(first_bucket_name, second_bucket_name, first_file_name)"
      ],
      "execution_count": 21,
      "outputs": []
    },
    {
      "cell_type": "code",
      "metadata": {
        "id": "FBKKIm5yjfx5",
        "colab_type": "code",
        "colab": {
          "base_uri": "https://localhost:8080/",
          "height": 156
        },
        "outputId": "a5927845-2e83-4736-de6d-55367c49c118"
      },
      "source": [
        "s3_resource.Object(second_bucket_name, first_file_name).delete()"
      ],
      "execution_count": 22,
      "outputs": [
        {
          "output_type": "execute_result",
          "data": {
            "text/plain": [
              "{'ResponseMetadata': {'HTTPHeaders': {'date': 'Sat, 08 Aug 2020 10:16:43 GMT',\n",
              "   'server': 'AmazonS3',\n",
              "   'x-amz-id-2': 'vbVZNEZMl0pwckgtQdyBmoSbpx1EC5h6yNqmr9LDbd899+EyvuZRgf3Tap8BKtNW6KotVIvdqlQ=',\n",
              "   'x-amz-request-id': 'F98C49F4023AD6EF'},\n",
              "  'HTTPStatusCode': 204,\n",
              "  'HostId': 'vbVZNEZMl0pwckgtQdyBmoSbpx1EC5h6yNqmr9LDbd899+EyvuZRgf3Tap8BKtNW6KotVIvdqlQ=',\n",
              "  'RequestId': 'F98C49F4023AD6EF',\n",
              "  'RetryAttempts': 0}}"
            ]
          },
          "metadata": {
            "tags": []
          },
          "execution_count": 22
        }
      ]
    },
    {
      "cell_type": "code",
      "metadata": {
        "id": "NgG6zwMUkpAo",
        "colab_type": "code",
        "colab": {}
      },
      "source": [
        "second_file_name = create_temp_file(400, 'secondfile.txt', 's')\n",
        "second_object = s3_resource.Object(first_bucket_name, second_file_name)\n",
        "second_object.upload_file(second_file_name, ExtraArgs={'ACL': 'public-read'})\n",
        "second_object_acl = second_object.Acl()"
      ],
      "execution_count": 23,
      "outputs": []
    },
    {
      "cell_type": "code",
      "metadata": {
        "id": "YbWZYL9YwEtt",
        "colab_type": "code",
        "colab": {
          "base_uri": "https://localhost:8080/",
          "height": 139
        },
        "outputId": "b21c07c1-707a-4d60-dcb8-aea6db8e8b95"
      },
      "source": [
        "second_object_acl.grants"
      ],
      "execution_count": 24,
      "outputs": [
        {
          "output_type": "execute_result",
          "data": {
            "text/plain": [
              "[{'Grantee': {'DisplayName': 'sriniaws24',\n",
              "   'ID': '00bba0ab9eddfd9339729ddc4c4e63f5ceb9cdf71132f46d8a3c7998e4fde7a0',\n",
              "   'Type': 'CanonicalUser'},\n",
              "  'Permission': 'FULL_CONTROL'},\n",
              " {'Grantee': {'Type': 'Group',\n",
              "   'URI': 'http://acs.amazonaws.com/groups/global/AllUsers'},\n",
              "  'Permission': 'READ'}]"
            ]
          },
          "metadata": {
            "tags": []
          },
          "execution_count": 24
        }
      ]
    },
    {
      "cell_type": "markdown",
      "metadata": {
        "id": "6r_enq-k03oZ",
        "colab_type": "text"
      },
      "source": [
        "Encrypting your objects"
      ]
    },
    {
      "cell_type": "code",
      "metadata": {
        "id": "-O5NbylnwY6B",
        "colab_type": "code",
        "colab": {}
      },
      "source": [
        "third_file_name = create_temp_file(300, 'thirdfile.txt', 't')\n",
        "third_object = s3_resource.Object(first_bucket_name, third_file_name)\n",
        "third_object.upload_file(third_file_name, ExtraArgs={'ServerSideEncryption': 'AES256',\n",
        "                                                     'ACL': 'public-read'})"
      ],
      "execution_count": 26,
      "outputs": []
    },
    {
      "cell_type": "code",
      "metadata": {
        "id": "4KGubSGrxpPN",
        "colab_type": "code",
        "colab": {
          "base_uri": "https://localhost:8080/",
          "height": 36
        },
        "outputId": "6905f770-caaf-4100-a73e-85bdbab96c1e"
      },
      "source": [
        "third_object.server_side_encryption"
      ],
      "execution_count": 27,
      "outputs": [
        {
          "output_type": "execute_result",
          "data": {
            "application/vnd.google.colaboratory.intrinsic+json": {
              "type": "string"
            },
            "text/plain": [
              "'AES256'"
            ]
          },
          "metadata": {
            "tags": []
          },
          "execution_count": 27
        }
      ]
    },
    {
      "cell_type": "code",
      "metadata": {
        "id": "ylESSwSsyEvJ",
        "colab_type": "code",
        "colab": {}
      },
      "source": [
        "third_object.storage_class"
      ],
      "execution_count": 31,
      "outputs": []
    },
    {
      "cell_type": "markdown",
      "metadata": {
        "id": "0oi6GGoS091o",
        "colab_type": "text"
      },
      "source": [
        "Versioning your objects"
      ]
    },
    {
      "cell_type": "code",
      "metadata": {
        "id": "bnCRjiSn1G6w",
        "colab_type": "code",
        "colab": {
          "base_uri": "https://localhost:8080/",
          "height": 34
        },
        "outputId": "8ca05801-b93a-4a66-9e54-353f32f7d6bc"
      },
      "source": [
        "def enable_bucket_versioning(bucket_name):\n",
        "    bkt_versioning = s3_resource.BucketVersioning(bucket_name)\n",
        "    bkt_versioning.enable()\n",
        "    print(bkt_versioning.status)\n",
        "\n",
        "enable_bucket_versioning(first_bucket_name)"
      ],
      "execution_count": 32,
      "outputs": [
        {
          "output_type": "stream",
          "text": [
            "Enabled\n"
          ],
          "name": "stdout"
        }
      ]
    },
    {
      "cell_type": "code",
      "metadata": {
        "id": "lz94Tg7e2PXG",
        "colab_type": "code",
        "colab": {
          "base_uri": "https://localhost:8080/",
          "height": 36
        },
        "outputId": "305b2ee2-646a-483f-c70e-b64ddbcc72c5"
      },
      "source": [
        "first_bucket_name"
      ],
      "execution_count": 33,
      "outputs": [
        {
          "output_type": "execute_result",
          "data": {
            "application/vnd.google.colaboratory.intrinsic+json": {
              "type": "string"
            },
            "text/plain": [
              "'firstpythonbucket06258cc2-e5b9-419b-b547-de43392987d2'"
            ]
          },
          "metadata": {
            "tags": []
          },
          "execution_count": 33
        }
      ]
    },
    {
      "cell_type": "code",
      "metadata": {
        "id": "IsXN8loG2afS",
        "colab_type": "code",
        "colab": {}
      },
      "source": [
        "s3_resource.Object(first_bucket_name, first_file_name).upload_file(first_file_name)\n",
        "s3_resource.Object(first_bucket_name, first_file_name).upload_file(third_file_name)"
      ],
      "execution_count": 36,
      "outputs": []
    },
    {
      "cell_type": "code",
      "metadata": {
        "id": "ufT0TsO04PuK",
        "colab_type": "code",
        "colab": {
          "base_uri": "https://localhost:8080/",
          "height": 36
        },
        "outputId": "5926f4e4-e08b-4dc7-968a-ad6abf1865f1"
      },
      "source": [
        "s3_resource.Object(first_bucket_name, first_file_name).version_id"
      ],
      "execution_count": 37,
      "outputs": [
        {
          "output_type": "execute_result",
          "data": {
            "application/vnd.google.colaboratory.intrinsic+json": {
              "type": "string"
            },
            "text/plain": [
              "'LRil_k4aX4uHvixY3ctPEir3fXeXC8RK'"
            ]
          },
          "metadata": {
            "tags": []
          },
          "execution_count": 37
        }
      ]
    },
    {
      "cell_type": "markdown",
      "metadata": {
        "id": "rNjXEU7r6D75",
        "colab_type": "text"
      },
      "source": [
        "Let's traverse contents of S3 of the account here "
      ]
    },
    {
      "cell_type": "code",
      "metadata": {
        "id": "5U81Glbp6Rzl",
        "colab_type": "code",
        "colab": {
          "base_uri": "https://localhost:8080/",
          "height": 69
        },
        "outputId": "595203b8-9c91-4e75-a032-16a223b8fca5"
      },
      "source": [
        "for bucket in s3_resource.buckets.all():\n",
        "    print(bucket.name)"
      ],
      "execution_count": 38,
      "outputs": [
        {
          "output_type": "stream",
          "text": [
            "elasticbeanstalk-eu-west-1-495542595299\n",
            "firstpythonbucket06258cc2-e5b9-419b-b547-de43392987d2\n",
            "secondpythonbucket7e3fe8d5-12c7-4d3d-8992-dd59a9294707\n"
          ],
          "name": "stdout"
        }
      ]
    },
    {
      "cell_type": "markdown",
      "metadata": {
        "id": "bG8sSLbS8-Pp",
        "colab_type": "text"
      },
      "source": [
        "Traversing all contents of bucket"
      ]
    },
    {
      "cell_type": "code",
      "metadata": {
        "id": "KwbMeoSN9BTJ",
        "colab_type": "code",
        "colab": {
          "base_uri": "https://localhost:8080/",
          "height": 86
        },
        "outputId": "1c50cf80-ce3c-4232-ecf0-2703bf9cad84"
      },
      "source": [
        "for obj in first_bucket.objects.all():\n",
        "    print(obj.key)"
      ],
      "execution_count": 39,
      "outputs": [
        {
          "output_type": "stream",
          "text": [
            "0e83c3thirdfile.txt\n",
            "860b06thirdfile.txt\n",
            "d52757secondfile.txt\n",
            "e2d9e8firstfile.txt\n"
          ],
          "name": "stdout"
        }
      ]
    },
    {
      "cell_type": "code",
      "metadata": {
        "id": "bR96oIDg9yzg",
        "colab_type": "code",
        "colab": {
          "base_uri": "https://localhost:8080/",
          "height": 86
        },
        "outputId": "2eb28442-ca3c-4ea2-d204-ff23cdc509c1"
      },
      "source": [
        "for obj in first_bucket.objects.all():\n",
        "    sub_rsc = obj.Object()\n",
        "    print(obj.key, obj.storage_class, obj.last_modified, sub_rsc.version_id, sub_rsc.metadata)"
      ],
      "execution_count": 42,
      "outputs": [
        {
          "output_type": "stream",
          "text": [
            "0e83c3thirdfile.txt STANDARD 2020-08-08 11:14:35+00:00 null {}\n",
            "860b06thirdfile.txt STANDARD 2020-08-08 11:13:32+00:00 null {}\n",
            "d52757secondfile.txt STANDARD 2020-08-08 11:06:40+00:00 null {}\n",
            "e2d9e8firstfile.txt STANDARD 2020-08-08 11:47:38+00:00 LRil_k4aX4uHvixY3ctPEir3fXeXC8RK {}\n"
          ],
          "name": "stdout"
        }
      ]
    },
    {
      "cell_type": "markdown",
      "metadata": {
        "id": "gR04YloL_6hi",
        "colab_type": "text"
      },
      "source": [
        "Deleting Buckets and Objects"
      ]
    },
    {
      "cell_type": "code",
      "metadata": {
        "id": "aK8a6-6M-phS",
        "colab_type": "code",
        "colab": {
          "base_uri": "https://localhost:8080/",
          "height": 54
        },
        "outputId": "57f06790-e571-4f0e-d605-329fe2ed59b0"
      },
      "source": [
        "def delete_all_objects(bucket_name):\n",
        "    res = []\n",
        "    bucket = s3_resource.Bucket(first_bucket_name)\n",
        "    for obj_version in bucket.object_versions.all():\n",
        "        res.append({'Key': obj_version.object_key,\n",
        "                    'VersionId': obj_version.id})\n",
        "    print(res)\n",
        "    bucket.delete_objects(Delete={'Objects': res})\n",
        "\n",
        "delete_all_objects(first_bucket_name)"
      ],
      "execution_count": 46,
      "outputs": [
        {
          "output_type": "stream",
          "text": [
            "[{'Key': '0e83c3thirdfile.txt', 'VersionId': 'null'}, {'Key': '860b06thirdfile.txt', 'VersionId': 'null'}, {'Key': 'd52757secondfile.txt', 'VersionId': 'null'}, {'Key': 'e2d9e8firstfile.txt', 'VersionId': 'LRil_k4aX4uHvixY3ctPEir3fXeXC8RK'}, {'Key': 'e2d9e8firstfile.txt', 'VersionId': 'Y7fS5dG4y6YhQvG7mCbT4vH4oRvvSkDz'}, {'Key': 'e2d9e8firstfile.txt', 'VersionId': 'xxXLl8X8.6jHLe5dZtzVgS_IIhYxz39f'}, {'Key': 'e2d9e8firstfile.txt', 'VersionId': 'IskhhOxK8j.qIqK1Q54sxu5x9ud3zevw'}, {'Key': 'e2d9e8firstfile.txt', 'VersionId': 'null'}]\n"
          ],
          "name": "stdout"
        }
      ]
    },
    {
      "cell_type": "code",
      "metadata": {
        "id": "CnaBB0WTBSdC",
        "colab_type": "code",
        "colab": {
          "base_uri": "https://localhost:8080/",
          "height": 156
        },
        "outputId": "69aaa808-1b86-4f53-de17-bfbb76e7481f"
      },
      "source": [
        "s3_resource.Bucket(first_bucket_name).delete()"
      ],
      "execution_count": 47,
      "outputs": [
        {
          "output_type": "execute_result",
          "data": {
            "text/plain": [
              "{'ResponseMetadata': {'HTTPHeaders': {'date': 'Sat, 08 Aug 2020 12:26:06 GMT',\n",
              "   'server': 'AmazonS3',\n",
              "   'x-amz-id-2': 'njn40F3XRWmizDRMH/UAfhoEBn5wuVuPCmlzigY3g+AeTdE/qyAJhoDZuItRmQ8TtcMN+bDOQJA=',\n",
              "   'x-amz-request-id': '39FF2CC6B2B6EA8B'},\n",
              "  'HTTPStatusCode': 204,\n",
              "  'HostId': 'njn40F3XRWmizDRMH/UAfhoEBn5wuVuPCmlzigY3g+AeTdE/qyAJhoDZuItRmQ8TtcMN+bDOQJA=',\n",
              "  'RequestId': '39FF2CC6B2B6EA8B',\n",
              "  'RetryAttempts': 0}}"
            ]
          },
          "metadata": {
            "tags": []
          },
          "execution_count": 47
        }
      ]
    },
    {
      "cell_type": "code",
      "metadata": {
        "id": "ZtoegQ8-CQPk",
        "colab_type": "code",
        "colab": {
          "base_uri": "https://localhost:8080/",
          "height": 156
        },
        "outputId": "b6ad243e-d0d4-4966-97d8-0aa4428f3650"
      },
      "source": [
        "s3_resource.Bucket(second_bucket_name).delete()"
      ],
      "execution_count": 48,
      "outputs": [
        {
          "output_type": "execute_result",
          "data": {
            "text/plain": [
              "{'ResponseMetadata': {'HTTPHeaders': {'date': 'Sat, 08 Aug 2020 12:26:41 GMT',\n",
              "   'server': 'AmazonS3',\n",
              "   'x-amz-id-2': 'jSAlBuQ+i5GHQFW/xOAzMVGw4Gona2yE98GJHCNB+VQub0MOWzHuCkAb/D8EY0xopatkCZOsv7o=',\n",
              "   'x-amz-request-id': '5C179278EFEF2282'},\n",
              "  'HTTPStatusCode': 204,\n",
              "  'HostId': 'jSAlBuQ+i5GHQFW/xOAzMVGw4Gona2yE98GJHCNB+VQub0MOWzHuCkAb/D8EY0xopatkCZOsv7o=',\n",
              "  'RequestId': '5C179278EFEF2282',\n",
              "  'RetryAttempts': 0}}"
            ]
          },
          "metadata": {
            "tags": []
          },
          "execution_count": 48
        }
      ]
    }
  ]
}