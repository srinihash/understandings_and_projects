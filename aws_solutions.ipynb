{
  "nbformat": 4,
  "nbformat_minor": 0,
  "metadata": {
    "colab": {
      "name": "aws_solutions.ipynb",
      "provenance": [],
      "mount_file_id": "1QN376f5BInxOk0YlQYpBmlqjM9YtpDjF",
      "authorship_tag": "ABX9TyOT3Hzdn1L9XxyW2sg3UssW",
      "include_colab_link": true
    },
    "kernelspec": {
      "name": "python3",
      "display_name": "Python 3"
    }
  },
  "cells": [
    {
      "cell_type": "markdown",
      "metadata": {
        "id": "view-in-github",
        "colab_type": "text"
      },
      "source": [
        "<a href=\"https://colab.research.google.com/github/srinihash/understandings_and_projects/blob/master/aws_solutions.ipynb\" target=\"_parent\"><img src=\"https://colab.research.google.com/assets/colab-badge.svg\" alt=\"Open In Colab\"/></a>"
      ]
    },
    {
      "cell_type": "markdown",
      "metadata": {
        "id": "SMezTZuzwhzS",
        "colab_type": "text"
      },
      "source": [
        "https://realpython.com/python-boto3-aws-s3/"
      ]
    },
    {
      "cell_type": "code",
      "metadata": {
        "id": "HuL3N3gr4KdQ",
        "colab_type": "code",
        "colab": {}
      },
      "source": [
        "!pip install boto3"
      ],
      "execution_count": null,
      "outputs": []
    },
    {
      "cell_type": "code",
      "metadata": {
        "id": "a7Dp2uz44Uee",
        "colab_type": "code",
        "colab": {}
      },
      "source": [
        "# https://stackoverflow.com/questions/54571009/how-to-hide-secret-keys-in-google-colaboratory-from-users-having-the-sharing-lin\n",
        "# Mounting my drive (do not worry, no one ca hack this because \"login\" is required for running this Colab)\n",
        "!mkdir -p ~/.aws\n",
        "!cp \"/content/drive/My Drive/aws/config\" ~/.aws/config"
      ],
      "execution_count": 3,
      "outputs": []
    },
    {
      "cell_type": "code",
      "metadata": {
        "id": "mIy1E3Gd5v8v",
        "colab_type": "code",
        "colab": {}
      },
      "source": [
        "# Client connection\n",
        "import boto3\n",
        "s3_client = boto3.client('s3')\n",
        "print(dir(s3_client))"
      ],
      "execution_count": null,
      "outputs": []
    },
    {
      "cell_type": "code",
      "metadata": {
        "id": "Z1M4HfRe_19K",
        "colab_type": "code",
        "colab": {}
      },
      "source": [
        "# Direct Resource connection\n",
        "import boto3\n",
        "s3_resource = boto3.resource('s3')\n",
        "print(dir(s3_resource))"
      ],
      "execution_count": null,
      "outputs": []
    },
    {
      "cell_type": "markdown",
      "metadata": {
        "id": "zxjRle50txDj",
        "colab_type": "text"
      },
      "source": [
        "boto3 is dependent upon lower library botocore : https://github.com/boto/botocore/tree/master"
      ]
    },
    {
      "cell_type": "code",
      "metadata": {
        "id": "awIRqj1DAHY8",
        "colab_type": "code",
        "colab": {}
      },
      "source": [
        "import uuid\n",
        "def create_bucket_name(bucket_prefix):\n",
        "    # The generated bucket name must be between 3 and 63 chars long\n",
        "    return ''.join([bucket_prefix, str(uuid.uuid4())])\n",
        "\n",
        "def create_bucket(bucket_prefix, s3_connection):\n",
        "    session = boto3.session.Session()\n",
        "    current_region = session.region_name\n",
        "    bucket_name = create_bucket_name(bucket_prefix)\n",
        "    bucket_response = s3_connection.create_bucket(\n",
        "        Bucket=bucket_name,\n",
        "        CreateBucketConfiguration={\n",
        "        'LocationConstraint': current_region})\n",
        "    print(bucket_name, current_region)\n",
        "    return bucket_name, bucket_response\n",
        "\n",
        "def create_temp_file(size, file_name, file_content):\n",
        "    random_file_name = ''.join([str(uuid.uuid4().hex[:6]), file_name])\n",
        "    with open(random_file_name, 'w') as f:\n",
        "        f.write(str(file_content) * size)\n",
        "    return random_file_name\n",
        "\n",
        "\n",
        "first_bucket_name, first_response = create_bucket(bucket_prefix='firstpythonbucket',\n",
        "                                                  s3_connection=s3_resource.meta.client)\n",
        "\n",
        "second_bucket_name, second_response = create_bucket(bucket_prefix='secondpythonbucket',\n",
        "                                                    s3_connection=s3_resource)\n",
        "\n",
        "print(\"first bucket : {} :: second bucket : {}\".format(first_bucket_name, \n",
        "                                                       second_bucket_name))\n",
        "\n",
        "first_file_name = create_temp_file(300, 'firstfile.txt', 'f')\n",
        "\n",
        "first_bucket = s3_resource.Bucket(name=first_bucket_name)\n",
        "first_object = s3_resource.Object(bucket_name=first_bucket_name, \n",
        "                                  key=first_file_name)"
      ],
      "execution_count": null,
      "outputs": []
    },
    {
      "cell_type": "markdown",
      "metadata": {
        "id": "LoQpkpGmMs9q",
        "colab_type": "text"
      },
      "source": [
        "Let's now upload an object to the created bucket, in this case a file !\n",
        "We can upload the same using 3 constructs:\n",
        "1. From a Object instance\n",
        "2. From a Bucket instance\n",
        "3. From the client"
      ]
    },
    {
      "cell_type": "code",
      "metadata": {
        "id": "d9JulkE0GNFZ",
        "colab_type": "code",
        "colab": {}
      },
      "source": [
        "# Object instance version\n",
        "s3_resource.Object(first_bucket_name, first_file_name).upload_file(Filename=first_file_name)\n",
        "\n",
        "first_object.upload_file(first_file_name)"
      ],
      "execution_count": 14,
      "outputs": []
    },
    {
      "cell_type": "code",
      "metadata": {
        "id": "qrzFJw66O5rK",
        "colab_type": "code",
        "colab": {}
      },
      "source": [
        "# Bucket instance version\n",
        "s3_resource.Bucket(first_bucket_name).upload_file(Filename=first_file_name, Key=first_file_name) "
      ],
      "execution_count": 15,
      "outputs": []
    },
    {
      "cell_type": "code",
      "metadata": {
        "id": "KTCVLYUePTwo",
        "colab_type": "code",
        "colab": {}
      },
      "source": [
        "# Client version\n",
        "s3_resource.meta.client.upload_file(Filename=first_file_name, Bucket=first_bucket_name, Key=first_file_name) "
      ],
      "execution_count": 16,
      "outputs": []
    },
    {
      "cell_type": "markdown",
      "metadata": {
        "id": "hnshfZBEa_9-",
        "colab_type": "text"
      },
      "source": [
        "Let's copy this Object from one bucket to another"
      ]
    },
    {
      "cell_type": "code",
      "metadata": {
        "id": "pHDWPe2PQcWa",
        "colab_type": "code",
        "colab": {}
      },
      "source": [
        "def copy_to_bucket(bucket_from_name, bucket_to_name, file_name):\n",
        "    copy_resource = {\n",
        "        'Bucket': bucket_from_name,\n",
        "        'Key': file_name \n",
        "    }\n",
        "    s3_resource.Object(bucket_to_name, file_name).copy(copy_resource)\n",
        "\n",
        "copy_to_bucket(first_bucket_name, second_bucket_name, first_file_name)"
      ],
      "execution_count": 21,
      "outputs": []
    },
    {
      "cell_type": "code",
      "metadata": {
        "id": "FBKKIm5yjfx5",
        "colab_type": "code",
        "colab": {}
      },
      "source": [
        "s3_resource.Object(second_bucket_name, first_file_name).delete()"
      ],
      "execution_count": null,
      "outputs": []
    },
    {
      "cell_type": "code",
      "metadata": {
        "id": "NgG6zwMUkpAo",
        "colab_type": "code",
        "colab": {}
      },
      "source": [
        "second_file_name = create_temp_file(400, 'secondfile.txt', 's')\n",
        "second_object = s3_resource.Object(first_bucket_name, second_file_name)\n",
        "second_object.upload_file(second_file_name, ExtraArgs={'ACL': 'public-read'})\n",
        "second_object_acl = second_object.Acl()"
      ],
      "execution_count": 23,
      "outputs": []
    },
    {
      "cell_type": "code",
      "metadata": {
        "id": "YbWZYL9YwEtt",
        "colab_type": "code",
        "colab": {}
      },
      "source": [
        "second_object_acl.grants"
      ],
      "execution_count": null,
      "outputs": []
    },
    {
      "cell_type": "markdown",
      "metadata": {
        "id": "6r_enq-k03oZ",
        "colab_type": "text"
      },
      "source": [
        "Encrypting your objects"
      ]
    },
    {
      "cell_type": "code",
      "metadata": {
        "id": "-O5NbylnwY6B",
        "colab_type": "code",
        "colab": {}
      },
      "source": [
        "third_file_name = create_temp_file(300, 'thirdfile.txt', 't')\n",
        "third_object = s3_resource.Object(first_bucket_name, third_file_name)\n",
        "third_object.upload_file(third_file_name, ExtraArgs={'ServerSideEncryption': 'AES256',\n",
        "                                                     'ACL': 'public-read'})"
      ],
      "execution_count": 26,
      "outputs": []
    },
    {
      "cell_type": "code",
      "metadata": {
        "id": "4KGubSGrxpPN",
        "colab_type": "code",
        "colab": {}
      },
      "source": [
        "third_object.server_side_encryption"
      ],
      "execution_count": null,
      "outputs": []
    },
    {
      "cell_type": "code",
      "metadata": {
        "id": "ylESSwSsyEvJ",
        "colab_type": "code",
        "colab": {}
      },
      "source": [
        "third_object.storage_class"
      ],
      "execution_count": 31,
      "outputs": []
    },
    {
      "cell_type": "markdown",
      "metadata": {
        "id": "0oi6GGoS091o",
        "colab_type": "text"
      },
      "source": [
        "Versioning your objects"
      ]
    },
    {
      "cell_type": "code",
      "metadata": {
        "id": "bnCRjiSn1G6w",
        "colab_type": "code",
        "colab": {}
      },
      "source": [
        "def enable_bucket_versioning(bucket_name):\n",
        "    bkt_versioning = s3_resource.BucketVersioning(bucket_name)\n",
        "    bkt_versioning.enable()\n",
        "    print(bkt_versioning.status)\n",
        "\n",
        "enable_bucket_versioning(first_bucket_name)"
      ],
      "execution_count": null,
      "outputs": []
    },
    {
      "cell_type": "code",
      "metadata": {
        "id": "lz94Tg7e2PXG",
        "colab_type": "code",
        "colab": {}
      },
      "source": [
        "first_bucket_name"
      ],
      "execution_count": null,
      "outputs": []
    },
    {
      "cell_type": "code",
      "metadata": {
        "id": "IsXN8loG2afS",
        "colab_type": "code",
        "colab": {}
      },
      "source": [
        "s3_resource.Object(first_bucket_name, first_file_name).upload_file(first_file_name)\n",
        "s3_resource.Object(first_bucket_name, first_file_name).upload_file(third_file_name)"
      ],
      "execution_count": 36,
      "outputs": []
    },
    {
      "cell_type": "code",
      "metadata": {
        "id": "ufT0TsO04PuK",
        "colab_type": "code",
        "colab": {}
      },
      "source": [
        "s3_resource.Object(first_bucket_name, first_file_name).version_id"
      ],
      "execution_count": null,
      "outputs": []
    },
    {
      "cell_type": "markdown",
      "metadata": {
        "id": "rNjXEU7r6D75",
        "colab_type": "text"
      },
      "source": [
        "Let's traverse contents of S3 of the account here "
      ]
    },
    {
      "cell_type": "code",
      "metadata": {
        "id": "5U81Glbp6Rzl",
        "colab_type": "code",
        "colab": {}
      },
      "source": [
        "for bucket in s3_resource.buckets.all():\n",
        "    print(bucket.name)"
      ],
      "execution_count": null,
      "outputs": []
    },
    {
      "cell_type": "markdown",
      "metadata": {
        "id": "bG8sSLbS8-Pp",
        "colab_type": "text"
      },
      "source": [
        "Traversing all contents of bucket"
      ]
    },
    {
      "cell_type": "code",
      "metadata": {
        "id": "KwbMeoSN9BTJ",
        "colab_type": "code",
        "colab": {}
      },
      "source": [
        "for obj in first_bucket.objects.all():\n",
        "    print(obj.key)"
      ],
      "execution_count": null,
      "outputs": []
    },
    {
      "cell_type": "code",
      "metadata": {
        "id": "bR96oIDg9yzg",
        "colab_type": "code",
        "colab": {}
      },
      "source": [
        "for obj in first_bucket.objects.all():\n",
        "    sub_rsc = obj.Object()\n",
        "    print(obj.key, obj.storage_class, obj.last_modified, sub_rsc.version_id, sub_rsc.metadata)"
      ],
      "execution_count": null,
      "outputs": []
    },
    {
      "cell_type": "markdown",
      "metadata": {
        "id": "gR04YloL_6hi",
        "colab_type": "text"
      },
      "source": [
        "Deleting Buckets and Objects"
      ]
    },
    {
      "cell_type": "code",
      "metadata": {
        "id": "aK8a6-6M-phS",
        "colab_type": "code",
        "colab": {}
      },
      "source": [
        "def delete_all_objects(bucket_name):\n",
        "    res = []\n",
        "    bucket = s3_resource.Bucket(first_bucket_name)\n",
        "    for obj_version in bucket.object_versions.all():\n",
        "        res.append({'Key': obj_version.object_key,\n",
        "                    'VersionId': obj_version.id})\n",
        "    print(res)\n",
        "    bucket.delete_objects(Delete={'Objects': res})\n",
        "\n",
        "delete_all_objects(first_bucket_name)"
      ],
      "execution_count": null,
      "outputs": []
    },
    {
      "cell_type": "code",
      "metadata": {
        "id": "CnaBB0WTBSdC",
        "colab_type": "code",
        "colab": {}
      },
      "source": [
        "s3_resource.Bucket(first_bucket_name).delete()"
      ],
      "execution_count": null,
      "outputs": []
    },
    {
      "cell_type": "code",
      "metadata": {
        "id": "ZtoegQ8-CQPk",
        "colab_type": "code",
        "colab": {}
      },
      "source": [
        "s3_resource.Bucket(second_bucket_name).delete()"
      ],
      "execution_count": null,
      "outputs": []
    }
  ]
}