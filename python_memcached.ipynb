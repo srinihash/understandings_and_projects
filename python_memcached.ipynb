{
  "nbformat": 4,
  "nbformat_minor": 0,
  "metadata": {
    "colab": {
      "name": "python_memcached.ipynb",
      "provenance": [],
      "collapsed_sections": [],
      "authorship_tag": "ABX9TyMwpZikvr1Rkz0V7gV7TtFZ",
      "include_colab_link": true
    },
    "kernelspec": {
      "name": "python3",
      "display_name": "Python 3"
    }
  },
  "cells": [
    {
      "cell_type": "markdown",
      "metadata": {
        "id": "view-in-github",
        "colab_type": "text"
      },
      "source": [
        "<a href=\"https://colab.research.google.com/github/srinihash/understandings_and_projects/blob/master/python_memcached.ipynb\" target=\"_parent\"><img src=\"https://colab.research.google.com/assets/colab-badge.svg\" alt=\"Open In Colab\"/></a>"
      ]
    },
    {
      "cell_type": "markdown",
      "metadata": {
        "id": "fNN4Wxh9jVDo",
        "colab_type": "text"
      },
      "source": [
        "Must Read : A Caching Story : https://github.com/memcached/memcached/wiki/TutorialCachingStory\n",
        "\n",
        "When writing Python applications, caching is important. Using a cache to avoid recomputing data or accessing a slow database can provide one with a great performance boost.\n",
        "\n",
        "Python itself provides inbuild datastructures such as from dictionary to functool's lru_cache implememntation. The lru_cache uses **least recently used** algorithm to limit the cache size.However, these data structures are local to one's python's process. \n",
        "What if multiple copies of our application rus on a large platform which would be a distributed one. In this case one might require a networked distributed caching startegy.\n",
        "This is where engines such as Memcached comes handy (http://memcached.org/)\n",
        "\n",
        "What's a Memcached ?\n",
        "\n",
        "Memcached is a high-performance, distributed memory object caching system, generic in nature, but originally intended for use in speeding up dynamic web applications by alleviating database load.\n",
        "\n",
        "You can think of it as a **short-term memory** for your applications.\n",
        "\n",
        "https://github.com/memcached/memcached/wiki/Overview\n",
        "\n",
        "http://memcached.org/about\n",
        "\n",
        "Internal implementations and improvements done recently (in terms of better LRU algorithm usage) : https://memcached.org/blog/modern-lru/, https://github.com/memcached/memcached/blob/master/doc/new_lru.txt\n",
        "\n",
        "Also to dig in more about memcached :\n",
        "\n",
        "https://github.com/memcached/memcached/wiki/ProgrammingFAQ\n",
        "\n",
        "Memcached Internals :\n",
        "\n",
        "https://github.com/memcached/memcached/wiki/UserInternals\n",
        "\n",
        "https://github.com/memcached/memcached\n",
        "\n",
        "References for this learning :\n",
        "\n",
        "https://realpython.com/python-memcache-efficient-caching/"
      ]
    },
    {
      "cell_type": "code",
      "metadata": {
        "id": "kUEu2cfxi0m5",
        "colab_type": "code",
        "colab": {
          "base_uri": "https://localhost:8080/",
          "height": 121
        },
        "outputId": "9479b3ca-7675-4116-bef3-c3d1d964bb35"
      },
      "source": [
        "!pip install pymemcache"
      ],
      "execution_count": 1,
      "outputs": [
        {
          "output_type": "stream",
          "text": [
            "Collecting pymemcache\n",
            "\u001b[?25l  Downloading https://files.pythonhosted.org/packages/d0/32/6c367f54699bd51961cf3e10299f6dee976f0f6813210052a4d8c2bd1d2b/pymemcache-3.2.0-py2.py3-none-any.whl (47kB)\n",
            "\r\u001b[K     |██████▉                         | 10kB 15.8MB/s eta 0:00:01\r\u001b[K     |█████████████▊                  | 20kB 1.6MB/s eta 0:00:01\r\u001b[K     |████████████████████▋           | 30kB 2.1MB/s eta 0:00:01\r\u001b[K     |███████████████████████████▌    | 40kB 2.4MB/s eta 0:00:01\r\u001b[K     |████████████████████████████████| 51kB 1.6MB/s \n",
            "\u001b[?25hRequirement already satisfied: six in /usr/local/lib/python3.6/dist-packages (from pymemcache) (1.15.0)\n",
            "Installing collected packages: pymemcache\n",
            "Successfully installed pymemcache-3.2.0\n"
          ],
          "name": "stdout"
        }
      ]
    },
    {
      "cell_type": "code",
      "metadata": {
        "id": "QYzDXF3UvG-m",
        "colab_type": "code",
        "colab": {}
      },
      "source": [
        "from pymemcache.client import base\n",
        "# I had installed memcached on my EC2 instance from AWS\n",
        "client = base.Client(('<HOST_DETAILS>', 11211))"
      ],
      "execution_count": 10,
      "outputs": []
    },
    {
      "cell_type": "code",
      "metadata": {
        "id": "t7rxExPGvTnQ",
        "colab_type": "code",
        "colab": {
          "base_uri": "https://localhost:8080/",
          "height": 34
        },
        "outputId": "a526a378-1335-497a-ee64-ba73a4fbbfa1"
      },
      "source": [
        "client.set('key', 'some value')"
      ],
      "execution_count": 11,
      "outputs": [
        {
          "output_type": "execute_result",
          "data": {
            "text/plain": [
              "True"
            ]
          },
          "metadata": {
            "tags": []
          },
          "execution_count": 11
        }
      ]
    },
    {
      "cell_type": "code",
      "metadata": {
        "id": "0vT_dIL7vewu",
        "colab_type": "code",
        "colab": {
          "base_uri": "https://localhost:8080/",
          "height": 34
        },
        "outputId": "cc11bf9c-97e8-4b98-9430-53f95f09abce"
      },
      "source": [
        "client.get('key')"
      ],
      "execution_count": 12,
      "outputs": [
        {
          "output_type": "execute_result",
          "data": {
            "text/plain": [
              "b'some value'"
            ]
          },
          "metadata": {
            "tags": []
          },
          "execution_count": 12
        }
      ]
    },
    {
      "cell_type": "code",
      "metadata": {
        "id": "-MNv9jD1viPL",
        "colab_type": "code",
        "colab": {}
      },
      "source": [
        ""
      ],
      "execution_count": null,
      "outputs": []
    }
  ]
}